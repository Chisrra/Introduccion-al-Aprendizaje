{
 "cells": [
  {
   "attachments": {},
   "cell_type": "markdown",
   "metadata": {},
   "source": [
    "# Programa de clasificador de flores de Iris utilizando el modelo del perceptrón\n",
    "\n",
    "#### Sólo se utilizaran las especies de Setosa y Versicolor, longitud de sépalo y de pétalo"
   ]
  },
  {
   "attachments": {},
   "cell_type": "markdown",
   "metadata": {},
   "source": [
    "- **Librerias**"
   ]
  },
  {
   "cell_type": "code",
   "execution_count": 71,
   "metadata": {},
   "outputs": [],
   "source": [
    "import numpy\n",
    "import pandas\n",
    "from sklearn.model_selection import train_test_split\n",
    "from sklearn.neural_network import MLPClassifier\n",
    "from sklearn.metrics import confusion_matrix"
   ]
  },
  {
   "attachments": {},
   "cell_type": "markdown",
   "metadata": {},
   "source": [
    "- **Funcion de calculo de la precisión global y por categoria**"
   ]
  },
  {
   "cell_type": "code",
   "execution_count": 72,
   "metadata": {},
   "outputs": [],
   "source": [
    "def indices_general(MC: confusion_matrix, nombres: numpy.ndarray):\n",
    "    \"\"\"Calculo de la precisión global y por categoria, y el error global de la matriz de confusión\n",
    "\n",
    "    Args:\n",
    "        MC (confusion_matrix): Matriz de confussion se muestran los aciertos y desaciertos de la prediccion por clasificación\n",
    "        nombres (ndarray, optional): El array que contiene las diferentes clasificaciones. Defaults to None.\n",
    "\n",
    "    Returns:\n",
    "        tuples(tuples): Retorna una tupla de tuplas, donde cada una de estas contiene una descripcion de los datos calculados y dichos datos\n",
    "    \"\"\"\n",
    "\n",
    "    accuracy_global = numpy.sum(MC.diagonal()) / numpy.sum(MC)\n",
    "    err_global = 1 - accuracy_global\n",
    "    accuracy_category = pandas.DataFrame(MC.diagonal()/numpy.sum(MC, axis=1)).T\n",
    "\n",
    "    if not nombres.size:\n",
    "        accuracy_category.colums = nombres\n",
    "    \n",
    "    return ((\"Matriz de confusión: \",MC), (\"Precision Global: \", accuracy_global), (\"Error Global\", err_global), (\"Precisión por categoría\", accuracy_category))"
   ]
  },
  {
   "attachments": {},
   "cell_type": "markdown",
   "metadata": {},
   "source": [
    "- **Obtencion del largo de sépalo y pétalo de las especies Setosa y Versicolor**"
   ]
  },
  {
   "cell_type": "code",
   "execution_count": 73,
   "metadata": {},
   "outputs": [
    {
     "data": {
      "text/plain": [
       "(array([[1.4, 5.1],\n",
       "        [1.4, 4.9],\n",
       "        [1.3, 4.7],\n",
       "        [1.5, 4.6],\n",
       "        [1.4, 5. ],\n",
       "        [1.7, 5.4],\n",
       "        [1.4, 4.6],\n",
       "        [1.5, 5. ],\n",
       "        [1.4, 4.4],\n",
       "        [1.5, 4.9],\n",
       "        [1.5, 5.4],\n",
       "        [1.6, 4.8],\n",
       "        [1.4, 4.8],\n",
       "        [1.1, 4.3],\n",
       "        [1.2, 5.8],\n",
       "        [1.5, 5.7],\n",
       "        [1.3, 5.4],\n",
       "        [1.4, 5.1],\n",
       "        [1.7, 5.7],\n",
       "        [1.5, 5.1],\n",
       "        [1.7, 5.4],\n",
       "        [1.5, 5.1],\n",
       "        [1. , 4.6],\n",
       "        [1.7, 5.1],\n",
       "        [1.9, 4.8],\n",
       "        [1.6, 5. ],\n",
       "        [1.6, 5. ],\n",
       "        [1.5, 5.2],\n",
       "        [1.4, 5.2],\n",
       "        [1.6, 4.7],\n",
       "        [1.6, 4.8],\n",
       "        [1.5, 5.4],\n",
       "        [1.5, 5.2],\n",
       "        [1.4, 5.5],\n",
       "        [1.5, 4.9],\n",
       "        [1.2, 5. ],\n",
       "        [1.3, 5.5],\n",
       "        [1.5, 4.9],\n",
       "        [1.3, 4.4],\n",
       "        [1.5, 5.1],\n",
       "        [1.3, 5. ],\n",
       "        [1.3, 4.5],\n",
       "        [1.3, 4.4],\n",
       "        [1.6, 5. ],\n",
       "        [1.9, 5.1],\n",
       "        [1.4, 4.8],\n",
       "        [1.6, 5.1],\n",
       "        [1.4, 4.6],\n",
       "        [1.5, 5.3],\n",
       "        [1.4, 5. ],\n",
       "        [4.7, 7. ],\n",
       "        [4.5, 6.4],\n",
       "        [4.9, 6.9],\n",
       "        [4. , 5.5],\n",
       "        [4.6, 6.5],\n",
       "        [4.5, 5.7],\n",
       "        [4.7, 6.3],\n",
       "        [3.3, 4.9],\n",
       "        [4.6, 6.6],\n",
       "        [3.9, 5.2],\n",
       "        [3.5, 5. ],\n",
       "        [4.2, 5.9],\n",
       "        [4. , 6. ],\n",
       "        [4.7, 6.1],\n",
       "        [3.6, 5.6],\n",
       "        [4.4, 6.7],\n",
       "        [4.5, 5.6],\n",
       "        [4.1, 5.8],\n",
       "        [4.5, 6.2],\n",
       "        [3.9, 5.6],\n",
       "        [4.8, 5.9],\n",
       "        [4. , 6.1],\n",
       "        [4.9, 6.3],\n",
       "        [4.7, 6.1],\n",
       "        [4.3, 6.4],\n",
       "        [4.4, 6.6],\n",
       "        [4.8, 6.8],\n",
       "        [5. , 6.7],\n",
       "        [4.5, 6. ],\n",
       "        [3.5, 5.7],\n",
       "        [3.8, 5.5],\n",
       "        [3.7, 5.5],\n",
       "        [3.9, 5.8],\n",
       "        [5.1, 6. ],\n",
       "        [4.5, 5.4],\n",
       "        [4.5, 6. ],\n",
       "        [4.7, 6.7],\n",
       "        [4.4, 6.3],\n",
       "        [4.1, 5.6],\n",
       "        [4. , 5.5],\n",
       "        [4.4, 5.5],\n",
       "        [4.6, 6.1],\n",
       "        [4. , 5.8],\n",
       "        [3.3, 5. ],\n",
       "        [4.2, 5.6],\n",
       "        [4.2, 5.7],\n",
       "        [4.2, 5.7],\n",
       "        [4.3, 6.2],\n",
       "        [3. , 5.1],\n",
       "        [4.1, 5.7]]),\n",
       " array(['setosa', 'setosa', 'setosa', 'setosa', 'setosa', 'setosa',\n",
       "        'setosa', 'setosa', 'setosa', 'setosa', 'setosa', 'setosa',\n",
       "        'setosa', 'setosa', 'setosa', 'setosa', 'setosa', 'setosa',\n",
       "        'setosa', 'setosa', 'setosa', 'setosa', 'setosa', 'setosa',\n",
       "        'setosa', 'setosa', 'setosa', 'setosa', 'setosa', 'setosa',\n",
       "        'setosa', 'setosa', 'setosa', 'setosa', 'setosa', 'setosa',\n",
       "        'setosa', 'setosa', 'setosa', 'setosa', 'setosa', 'setosa',\n",
       "        'setosa', 'setosa', 'setosa', 'setosa', 'setosa', 'setosa',\n",
       "        'setosa', 'setosa', 'versicolor', 'versicolor', 'versicolor',\n",
       "        'versicolor', 'versicolor', 'versicolor', 'versicolor',\n",
       "        'versicolor', 'versicolor', 'versicolor', 'versicolor',\n",
       "        'versicolor', 'versicolor', 'versicolor', 'versicolor',\n",
       "        'versicolor', 'versicolor', 'versicolor', 'versicolor',\n",
       "        'versicolor', 'versicolor', 'versicolor', 'versicolor',\n",
       "        'versicolor', 'versicolor', 'versicolor', 'versicolor',\n",
       "        'versicolor', 'versicolor', 'versicolor', 'versicolor',\n",
       "        'versicolor', 'versicolor', 'versicolor', 'versicolor',\n",
       "        'versicolor', 'versicolor', 'versicolor', 'versicolor',\n",
       "        'versicolor', 'versicolor', 'versicolor', 'versicolor',\n",
       "        'versicolor', 'versicolor', 'versicolor', 'versicolor',\n",
       "        'versicolor', 'versicolor', 'versicolor'], dtype=object))"
      ]
     },
     "execution_count": 73,
     "metadata": {},
     "output_type": "execute_result"
    }
   ],
   "source": [
    "filename = \"iris.csv\"\n",
    "datos = pandas.read_csv(filename, delimiter=\";\", decimal=\".\")\n",
    "bruto = datos.iloc[:100]\n",
    "\n",
    "y = numpy.array(bruto[\"tipo\"])\n",
    "\n",
    "p_largo = numpy.array(bruto[\"p.largo\"])\n",
    "s_largo = numpy.array(bruto[\"s.largo\"])\n",
    "x = numpy.column_stack((p_largo, s_largo))\n",
    "(x,y)"
   ]
  },
  {
   "attachments": {},
   "cell_type": "markdown",
   "metadata": {},
   "source": [
    "- **Inicio del entrenamiento**"
   ]
  },
  {
   "cell_type": "code",
   "execution_count": 74,
   "metadata": {},
   "outputs": [
    {
     "data": {
      "text/html": [
       "<style>#sk-container-id-12 {color: black;background-color: white;}#sk-container-id-12 pre{padding: 0;}#sk-container-id-12 div.sk-toggleable {background-color: white;}#sk-container-id-12 label.sk-toggleable__label {cursor: pointer;display: block;width: 100%;margin-bottom: 0;padding: 0.3em;box-sizing: border-box;text-align: center;}#sk-container-id-12 label.sk-toggleable__label-arrow:before {content: \"▸\";float: left;margin-right: 0.25em;color: #696969;}#sk-container-id-12 label.sk-toggleable__label-arrow:hover:before {color: black;}#sk-container-id-12 div.sk-estimator:hover label.sk-toggleable__label-arrow:before {color: black;}#sk-container-id-12 div.sk-toggleable__content {max-height: 0;max-width: 0;overflow: hidden;text-align: left;background-color: #f0f8ff;}#sk-container-id-12 div.sk-toggleable__content pre {margin: 0.2em;color: black;border-radius: 0.25em;background-color: #f0f8ff;}#sk-container-id-12 input.sk-toggleable__control:checked~div.sk-toggleable__content {max-height: 200px;max-width: 100%;overflow: auto;}#sk-container-id-12 input.sk-toggleable__control:checked~label.sk-toggleable__label-arrow:before {content: \"▾\";}#sk-container-id-12 div.sk-estimator input.sk-toggleable__control:checked~label.sk-toggleable__label {background-color: #d4ebff;}#sk-container-id-12 div.sk-label input.sk-toggleable__control:checked~label.sk-toggleable__label {background-color: #d4ebff;}#sk-container-id-12 input.sk-hidden--visually {border: 0;clip: rect(1px 1px 1px 1px);clip: rect(1px, 1px, 1px, 1px);height: 1px;margin: -1px;overflow: hidden;padding: 0;position: absolute;width: 1px;}#sk-container-id-12 div.sk-estimator {font-family: monospace;background-color: #f0f8ff;border: 1px dotted black;border-radius: 0.25em;box-sizing: border-box;margin-bottom: 0.5em;}#sk-container-id-12 div.sk-estimator:hover {background-color: #d4ebff;}#sk-container-id-12 div.sk-parallel-item::after {content: \"\";width: 100%;border-bottom: 1px solid gray;flex-grow: 1;}#sk-container-id-12 div.sk-label:hover label.sk-toggleable__label {background-color: #d4ebff;}#sk-container-id-12 div.sk-serial::before {content: \"\";position: absolute;border-left: 1px solid gray;box-sizing: border-box;top: 0;bottom: 0;left: 50%;z-index: 0;}#sk-container-id-12 div.sk-serial {display: flex;flex-direction: column;align-items: center;background-color: white;padding-right: 0.2em;padding-left: 0.2em;position: relative;}#sk-container-id-12 div.sk-item {position: relative;z-index: 1;}#sk-container-id-12 div.sk-parallel {display: flex;align-items: stretch;justify-content: center;background-color: white;position: relative;}#sk-container-id-12 div.sk-item::before, #sk-container-id-12 div.sk-parallel-item::before {content: \"\";position: absolute;border-left: 1px solid gray;box-sizing: border-box;top: 0;bottom: 0;left: 50%;z-index: -1;}#sk-container-id-12 div.sk-parallel-item {display: flex;flex-direction: column;z-index: 1;position: relative;background-color: white;}#sk-container-id-12 div.sk-parallel-item:first-child::after {align-self: flex-end;width: 50%;}#sk-container-id-12 div.sk-parallel-item:last-child::after {align-self: flex-start;width: 50%;}#sk-container-id-12 div.sk-parallel-item:only-child::after {width: 0;}#sk-container-id-12 div.sk-dashed-wrapped {border: 1px dashed gray;margin: 0 0.4em 0.5em 0.4em;box-sizing: border-box;padding-bottom: 0.4em;background-color: white;}#sk-container-id-12 div.sk-label label {font-family: monospace;font-weight: bold;display: inline-block;line-height: 1.2em;}#sk-container-id-12 div.sk-label-container {text-align: center;}#sk-container-id-12 div.sk-container {/* jupyter's `normalize.less` sets `[hidden] { display: none; }` but bootstrap.min.css set `[hidden] { display: none !important; }` so we also need the `!important` here to be able to override the default hidden behavior on the sphinx rendered scikit-learn.org. See: https://github.com/scikit-learn/scikit-learn/issues/21755 */display: inline-block !important;position: relative;}#sk-container-id-12 div.sk-text-repr-fallback {display: none;}</style><div id=\"sk-container-id-12\" class=\"sk-top-container\"><div class=\"sk-text-repr-fallback\"><pre>MLPClassifier(max_iter=1000)</pre><b>In a Jupyter environment, please rerun this cell to show the HTML representation or trust the notebook. <br />On GitHub, the HTML representation is unable to render, please try loading this page with nbviewer.org.</b></div><div class=\"sk-container\" hidden><div class=\"sk-item\"><div class=\"sk-estimator sk-toggleable\"><input class=\"sk-toggleable__control sk-hidden--visually\" id=\"sk-estimator-id-12\" type=\"checkbox\" checked><label for=\"sk-estimator-id-12\" class=\"sk-toggleable__label sk-toggleable__label-arrow\">MLPClassifier</label><div class=\"sk-toggleable__content\"><pre>MLPClassifier(max_iter=1000)</pre></div></div></div></div></div>"
      ],
      "text/plain": [
       "MLPClassifier(max_iter=1000)"
      ]
     },
     "execution_count": 74,
     "metadata": {},
     "output_type": "execute_result"
    }
   ],
   "source": [
    "x_train, x_test, y_train, y_test = train_test_split(x,y, train_size=0.7, random_state=0)\n",
    "mlp = MLPClassifier(max_iter=1000)\n",
    "mlp.fit(x_train, y_train)"
   ]
  },
  {
   "attachments": {},
   "cell_type": "markdown",
   "metadata": {},
   "source": [
    "- **Prediccion de testing y matriz de confusion**"
   ]
  },
  {
   "cell_type": "code",
   "execution_count": 75,
   "metadata": {},
   "outputs": [
    {
     "name": "stdout",
     "output_type": "stream",
     "text": [
      "La predicciones del Testing son: ['setosa' 'versicolor' 'setosa' 'versicolor' 'versicolor' 'versicolor'\n",
      " 'setosa' 'versicolor' 'versicolor' 'versicolor' 'versicolor' 'versicolor'\n",
      " 'versicolor' 'setosa' 'setosa' 'setosa' 'setosa' 'setosa' 'setosa'\n",
      " 'setosa' 'setosa' 'versicolor' 'setosa' 'versicolor' 'setosa' 'setosa'\n",
      " 'setosa' 'versicolor' 'versicolor' 'versicolor']\n",
      "----------------------------\n"
     ]
    }
   ],
   "source": [
    "print(\"La predicciones del Testing son: {}\".format(mlp.predict(x_test)), end=\"\\n----------------------------\\n\")\n",
    "\n",
    "MC = confusion_matrix(y_test, mlp.predict(x_test))"
   ]
  },
  {
   "attachments": {},
   "cell_type": "markdown",
   "metadata": {},
   "source": [
    "- **Resultados y score del entrenamiento**"
   ]
  },
  {
   "cell_type": "code",
   "execution_count": 76,
   "metadata": {},
   "outputs": [
    {
     "name": "stdout",
     "output_type": "stream",
     "text": [
      "Matriz de confusión: \n",
      "[[15  0]\n",
      " [ 0 15]]\n",
      "Precision Global: \n",
      "1.0\n",
      "Error Global\n",
      "0.0\n",
      "Precisión por categoría\n",
      "     0    1\n",
      "0  1.0  1.0\n"
     ]
    }
   ],
   "source": [
    "resultados = indices_general(MC, numpy.unique(y))\n",
    "\n",
    "for i in resultados:\n",
    "    print(f\"{i[0]}\\n{i[1]}\")\n",
    "\n"
   ]
  }
 ],
 "metadata": {
  "kernelspec": {
   "display_name": "Python 3",
   "language": "python",
   "name": "python3"
  },
  "language_info": {
   "codemirror_mode": {
    "name": "ipython",
    "version": 3
   },
   "file_extension": ".py",
   "mimetype": "text/x-python",
   "name": "python",
   "nbconvert_exporter": "python",
   "pygments_lexer": "ipython3",
   "version": "3.11.1"
  },
  "orig_nbformat": 4,
  "vscode": {
   "interpreter": {
    "hash": "718715b73e0a150c6aa0738ed8aa0727f84182aa4188b2f31734b0cdc51341ea"
   }
  }
 },
 "nbformat": 4,
 "nbformat_minor": 2
}
